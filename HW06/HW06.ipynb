{
 "cells": [
  {
   "cell_type": "markdown",
   "metadata": {
    "id": "xXTZ3sthLr87"
   },
   "source": [
    "# **FolT Homework 6**\n"
   ]
  },
  {
   "cell_type": "code",
   "execution_count": 1,
   "metadata": {
    "id": "KlpPiaEuSTw8"
   },
   "outputs": [
    {
     "name": "stdout",
     "output_type": "stream",
     "text": [
      "Collecting nltk==3.5\n",
      "  Using cached nltk-3.5.zip (1.4 MB)\n",
      "Collecting click\n",
      "  Using cached click-7.1.2-py2.py3-none-any.whl (82 kB)\n",
      "Collecting joblib\n",
      "  Downloading joblib-1.0.0-py3-none-any.whl (302 kB)\n",
      "Collecting regex\n",
      "  Using cached regex-2020.11.13-cp37-cp37m-win_amd64.whl (269 kB)\n",
      "Collecting tqdm\n",
      "  Using cached tqdm-4.54.1-py2.py3-none-any.whl (69 kB)\n",
      "Using legacy 'setup.py install' for nltk, since package 'wheel' is not installed.\n",
      "Installing collected packages: tqdm, regex, joblib, click, nltk\n",
      "    Running setup.py install for nltk: started\n",
      "    Running setup.py install for nltk: finished with status 'done'\n",
      "Successfully installed click-7.1.2 joblib-1.0.0 nltk-3.5 regex-2020.11.13 tqdm-4.54.1\n"
     ]
    },
    {
     "name": "stderr",
     "output_type": "stream",
     "text": [
      "WARNING: Target directory C:\\Users\\Nguyen\\PycharmProjects\\FoLT\\$nb_path\\click already exists. Specify --upgrade to force replacement.\n",
      "WARNING: Target directory C:\\Users\\Nguyen\\PycharmProjects\\FoLT\\$nb_path\\click-7.1.2.dist-info already exists. Specify --upgrade to force replacement.\n",
      "WARNING: Target directory C:\\Users\\Nguyen\\PycharmProjects\\FoLT\\$nb_path\\joblib already exists. Specify --upgrade to force replacement.\n",
      "WARNING: Target directory C:\\Users\\Nguyen\\PycharmProjects\\FoLT\\$nb_path\\nltk already exists. Specify --upgrade to force replacement.\n",
      "WARNING: Target directory C:\\Users\\Nguyen\\PycharmProjects\\FoLT\\$nb_path\\nltk-3.5-py3.7.egg-info already exists. Specify --upgrade to force replacement.\n",
      "WARNING: Target directory C:\\Users\\Nguyen\\PycharmProjects\\FoLT\\$nb_path\\regex already exists. Specify --upgrade to force replacement.\n",
      "WARNING: Target directory C:\\Users\\Nguyen\\PycharmProjects\\FoLT\\$nb_path\\regex-2020.11.13.dist-info already exists. Specify --upgrade to force replacement.\n",
      "WARNING: Target directory C:\\Users\\Nguyen\\PycharmProjects\\FoLT\\$nb_path\\tqdm already exists. Specify --upgrade to force replacement.\n",
      "WARNING: Target directory C:\\Users\\Nguyen\\PycharmProjects\\FoLT\\$nb_path\\tqdm-4.54.1.dist-info already exists. Specify --upgrade to force replacement.\n",
      "WARNING: Target directory C:\\Users\\Nguyen\\PycharmProjects\\FoLT\\$nb_path\\bin already exists. Specify --upgrade to force replacement.\n",
      "Python was not found; run without arguments to install from the Microsoft Store, or disable this shortcut from Settings > Manage App Execution Aliases.\n",
      "Python was not found; run without arguments to install from the Microsoft Store, or disable this shortcut from Settings > Manage App Execution Aliases.\n"
     ]
    }
   ],
   "source": [
    "# Execute before and only in colab, if you use jupyter ignore this cell\n",
    "!pip install --target=$nb_path nltk==3.5\n",
    "!python3 -m nltk.downloader popular\n",
    "!python3 -m nltk.downloader book"
   ]
  },
  {
   "cell_type": "markdown",
   "metadata": {
    "id": "Eo3mepfqL17n"
   },
   "source": [
    "### Homework 6.1 (10 points)\n",
    "Implement an SMS decoder.  Similar to the T9 system on mobile phones, your decodershould translate from digit sequences to words:\n"
   ]
  },
  {
   "cell_type": "markdown",
   "metadata": {
    "id": "RpSGy2VXyxDi"
   },
   "source": [
    "a) Choose at least one appropriate corpus and discuss,  why you chose this corpus. You will use the corpus to estimate which word is more frequent and should be a preferred output."
   ]
  },
  {
   "cell_type": "markdown",
   "metadata": {
    "id": "K_tNVwBc_0rP"
   },
   "source": [
    "__Answer:__ The corpus to be choosen is the Brown corpus. The word we are going to test are quite general so we don't really need a bigger corpus like the the Reuters corpus. The name corpus is also used, since we have an english name. \n"
   ]
  },
  {
   "cell_type": "markdown",
   "metadata": {
    "id": "6tGGj8oPzAA9"
   },
   "source": [
    "b) Implement a function `get_T9_word(digits)` which for a given sequence of digits, e.g. \"252473\", returns themost likely word, e.g. \"Claire\""
   ]
  },
  {
   "cell_type": "code",
   "execution_count": 143,
   "metadata": {
    "id": "uLsvPUGzzMAB"
   },
   "outputs": [],
   "source": [
    "import nltk \n",
    "import re \n",
    "from nltk.corpus import brown, names \n",
    "\n",
    "def get_T9_word(digits):\n",
    "    look_up_table = { 2 : 'abc',\n",
    "                      3 : 'def',\n",
    "                      4 : 'ghi',\n",
    "                      5 : 'jkl',\n",
    "                      6 : 'mno',\n",
    "                      7 : 'pqrs',\n",
    "                      8 : 'tuv',\n",
    "                      9 : 'wxyz'}\n",
    "    \n",
    "    ### Word candidates from the digit sequence\n",
    "    query = \"^\"    \n",
    "    if \"1\" not in digits:\n",
    "        for d in digits:    \n",
    "            query = query + \"[\" + look_up_table[int(d)]+\"]\"\n",
    "        query = query + \"$\"\n",
    "\n",
    "        wordlist = [w for w in nltk.corpus.words.words(\"en\") if w.islower()]\n",
    "        wordlist = wordlist + [name.lower() for name in names.words('male.txt')]\n",
    "        wordlist = wordlist + [name.lower() for name in names.words('female.txt')]\n",
    "        \n",
    "        candidates = [w for w in wordlist if re.search(query, w)]\n",
    "    else: \n",
    "        candidates = []\n",
    "        \n",
    "    if len(candidates)!= 0:\n",
    "        ### Choose the most likely word based on their freq in corpus \n",
    "        idx = 0\n",
    "        max_freq = 0\n",
    "\n",
    "        freq = nltk.FreqDist(w.lower() for w in brown.words())\n",
    "        for i, candidate in enumerate(candidates): \n",
    "            can_freq = freq[candidate]\n",
    "\n",
    "            if can_freq > max_freq: \n",
    "                max_freq = can_freq\n",
    "                idx = i\n",
    "    \n",
    "        result = candidates[idx]\n",
    "    else:\n",
    "        result = []\n",
    "        \n",
    "    return result"
   ]
  },
  {
   "cell_type": "code",
   "execution_count": 144,
   "metadata": {
    "id": "R7mezYVWSaCw",
    "scrolled": true
   },
   "outputs": [
    {
     "name": "stdout",
     "output_type": "stream",
     "text": [
      "claire\n",
      "good evening\n",
      "welcome\n",
      "here\n",
      "[]\n"
     ]
    }
   ],
   "source": [
    "print(get_T9_word('252473')) # claire\n",
    "print(get_T9_word('4663'), get_T9_word('3836464')) # good evening\n",
    "print(get_T9_word('9352663')) # welcome\n",
    "print(get_T9_word('4373')) # here\n",
    "print(get_T9_word('1111')) # no word"
   ]
  },
  {
   "cell_type": "markdown",
   "metadata": {
    "id": "mZtXyvPnzMO9"
   },
   "source": [
    "c) Apply the decoder to each digit sequence in this “sentence”: \n",
    "\n",
    "`['43556','69','374363','73837','4','26','3463']`\n",
    "\n",
    "The original sentence was: *“hello my friend peter i am fine”* \n",
    "\n",
    "Is the output readable?\n",
    "What errors have been made?"
   ]
  },
  {
   "cell_type": "code",
   "execution_count": 132,
   "metadata": {
    "id": "Jorpp4s_zavS"
   },
   "outputs": [],
   "source": [
    "digits = ['43556','69','374363','73837','4','26','3463']"
   ]
  },
  {
   "cell_type": "code",
   "execution_count": 133,
   "metadata": {
    "id": "RKi0X2qtzhY9"
   },
   "outputs": [
    {
     "name": "stdout",
     "output_type": "stream",
     "text": [
      " hello my friend peter i an find\n"
     ]
    }
   ],
   "source": [
    "sen = \"\" \n",
    "for digit in digits:\n",
    "    sen = sen + \" \"+ get_T9_word(digit)"
   ]
  },
  {
   "cell_type": "markdown",
   "metadata": {
    "id": "f86SeXyA_oQy"
   },
   "source": [
    "__Answer:__ the word _am_ is falsely recognized as _an_ and the adjective fine is falsely recognized as find. The sentence is still readable, \"hello my friend\" might suggest the next phrase can be \"i am fine\". Since the stopword \"an\" has higher freqency than \"am\", the first person singular form of the verb to be. The same reason apply for \"fine\" and \"find\"."
   ]
  },
  {
   "cell_type": "markdown",
   "metadata": {
    "id": "8sXsfq0Czhrl"
   },
   "source": [
    "### Homework 6.2\n",
    "This is a quite complicated optional task that you might explore if you are interested. It will not countas part of the official homework assignment.Improve the SMS decoder of homework 6.1 as follows:"
   ]
  },
  {
   "cell_type": "markdown",
   "metadata": {
    "id": "Prg6be0VzxRR"
   },
   "source": [
    "a) Take the context into account, guess the word using the bigram probability of the previous entered word with the function `get_T9_word(prevW ord, number)`. Test the improvement with the `(context_word, digit)` tuples inthe following list:"
   ]
  },
  {
   "cell_type": "code",
   "execution_count": 6,
   "metadata": {
    "id": "T7KWUynk0fxn"
   },
   "outputs": [],
   "source": [
    "def get_T9_word(prevWord, number):\n",
    "  pass"
   ]
  },
  {
   "cell_type": "code",
   "execution_count": 7,
   "metadata": {
    "id": "Pj-AkagRz-k8"
   },
   "outputs": [
    {
     "name": "stdout",
     "output_type": "stream",
     "text": [
      "None\n",
      "None\n",
      "None\n",
      "None\n",
      "None\n"
     ]
    }
   ],
   "source": [
    "# Test\n",
    "print(get_T9_word('i',    '26'))\n",
    "print(get_T9_word('its',  '26'))\n",
    "print(get_T9_word('a',    '3463'))\n",
    "print(get_T9_word('will', '3463'))\n",
    "print(get_T9_word('the',  '1111'))"
   ]
  },
  {
   "cell_type": "markdown",
   "metadata": {
    "id": "xcFgobGfz-wr"
   },
   "source": [
    "(b)  Apply the decoder to each digit sequence in this “sentence”:\n",
    "\n",
    "`['43556','69','374363','73837','4','26','3463']`\n",
    "\n",
    "The original sentence was: *“hello my friend peter i am fine”* \n",
    "\n",
    "Is the output readable? What errors have been made?"
   ]
  },
  {
   "cell_type": "code",
   "execution_count": 8,
   "metadata": {
    "id": "xxOjyFKj0kJa"
   },
   "outputs": [],
   "source": [
    "digits = ['43556','69','374363','73837','4','26','3463']"
   ]
  },
  {
   "cell_type": "code",
   "execution_count": 9,
   "metadata": {
    "id": "05zGvqpjz-_1"
   },
   "outputs": [],
   "source": [
    "# add code "
   ]
  },
  {
   "cell_type": "markdown",
   "metadata": {
    "id": "32AY3Jcr_ZUz"
   },
   "source": [
    "Add answer"
   ]
  }
 ],
 "metadata": {
  "colab": {
   "name": "FolT_Homework_6.ipynb",
   "provenance": []
  },
  "kernelspec": {
   "display_name": "Python 3",
   "language": "python",
   "name": "python3"
  },
  "language_info": {
   "codemirror_mode": {
    "name": "ipython",
    "version": 3
   },
   "file_extension": ".py",
   "mimetype": "text/x-python",
   "name": "python",
   "nbconvert_exporter": "python",
   "pygments_lexer": "ipython3",
   "version": "3.7.4"
  }
 },
 "nbformat": 4,
 "nbformat_minor": 1
}