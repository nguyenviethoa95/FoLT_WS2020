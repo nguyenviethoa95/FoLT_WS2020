{
 "cells": [
  {
   "cell_type": "markdown",
   "metadata": {
    "id": "xXTZ3sthLr87"
   },
   "source": [
    "# **FolT Homework 10**\n"
   ]
  },
  {
   "cell_type": "code",
   "execution_count": null,
   "metadata": {
    "id": "KlpPiaEuSTw8"
   },
   "outputs": [],
   "source": [
    "# Execute before and only in colab, if you use jupyter ignore this cell\n",
    "!pip install --target=$nb_path nltk==3.5\n",
    "!python3 -m nltk.downloader popular\n",
    "!python3 -m nltk.downloader book"
   ]
  },
  {
   "cell_type": "markdown",
   "metadata": {
    "id": "Eo3mepfqL17n"
   },
   "source": [
    "### Homework 10.1 (10 points)\n",
    "For the sake of science, let’s assume that we are on the other side as a spammer.\n",
    "\n",
    "(a) What could you do to avoid your spam being detected with respect to the previously implemented features?\n",
    "\n",
    "- Formulate at least two counter-strategies. (2 points)\n",
    "\n",
    "Keep in mind that as a spammer all you need is the short attention of\n",
    "the reader for the main message. It does not really matter what the rest of the email looks like. Also the spam\n",
    "message only needs to be readable, not unaltered. Please take care, that you only change the spam messages\n",
    "(the messages from the corpus in the training and the test data that belong to the SPAM class), not the valid\n",
    "emails, as (hopefully) the spammer has no way of changing the valid emails on the user’s computer\n"
   ]
  },
  {
   "cell_type": "markdown",
   "metadata": {
    "id": "K_tNVwBc_0rP"
   },
   "source": [
    "Add answer"
   ]
  },
  {
   "cell_type": "markdown",
   "metadata": {
    "id": "6tGGj8oPzAA9"
   },
   "source": [
    "(b) Implement your ideas by adding a method that changes the content of spam emails before they are feed into\n",
    "the classifier for training.\n",
    "\n",
    "- write a function to read the mails from the ```emails.zip```. You may use the ```LazyCorpusLoader``` (1 point)\n",
    "\n"
   ]
  },
  {
   "cell_type": "code",
   "execution_count": null,
   "metadata": {
    "id": "uLsvPUGzzMAB"
   },
   "outputs": [],
   "source": [
    "# add code"
   ]
  },
  {
   "cell_type": "markdown",
   "metadata": {
    "id": "tTdTLBMO_M5I"
   },
   "source": [
    "- implement at least two of your ideas from (a) (4 points)"
   ]
  },
  {
   "cell_type": "code",
   "execution_count": null,
   "metadata": {
    "id": "seF5lEMa_N96"
   },
   "outputs": [],
   "source": [
    "# add code"
   ]
  },
  {
   "cell_type": "markdown",
   "metadata": {
    "id": "gkV6jupU_QgV"
   },
   "source": [
    "- Use the classifier that you implemented in the Exercise 10. (1 point)\n"
   ]
  },
  {
   "cell_type": "code",
   "execution_count": null,
   "metadata": {
    "id": "AqjH1LNr_Qpa"
   },
   "outputs": [],
   "source": [
    "# add code"
   ]
  },
  {
   "cell_type": "markdown",
   "metadata": {
    "id": "nt-2K4MC_UTr"
   },
   "source": [
    "- Report the precision, recall and f-score. (1 point)\n",
    "- How much can you decrease\n",
    "the classifier’s performance? Discuss results (1 point)"
   ]
  },
  {
   "cell_type": "markdown",
   "metadata": {
    "id": "Lhay5Yf__XsR"
   },
   "source": [
    "Add answer"
   ]
  }
 ],
 "metadata": {
  "colab": {
   "name": "FolT_Homework_10.ipynb",
   "provenance": []
  },
  "kernelspec": {
   "display_name": "Python 3",
   "language": "python",
   "name": "python3"
  },
  "language_info": {
   "codemirror_mode": {
    "name": "ipython",
    "version": 3
   },
   "file_extension": ".py",
   "mimetype": "text/x-python",
   "name": "python",
   "nbconvert_exporter": "python",
   "pygments_lexer": "ipython3",
   "version": "3.7.4"
  }
 },
 "nbformat": 4,
 "nbformat_minor": 1
}
