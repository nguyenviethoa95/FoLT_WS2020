{
 "cells": [
  {
   "cell_type": "code",
   "execution_count": 1,
   "metadata": {
    "id": "kfgwV9E5B9c4",
    "pycharm": {
     "is_executing": false
    }
   },
   "outputs": [
    {
     "name": "stdout",
     "output_type": "stream",
     "text": [
      "Collecting nltk==3.5\n",
      "  Using cached https://files.pythonhosted.org/packages/92/75/ce35194d8e3022203cca0d2f896dbb88689f9b3fce8e9f9cff942913519d/nltk-3.5.zip\n",
      "Collecting click\n",
      "  Using cached https://files.pythonhosted.org/packages/d2/3d/fa76db83bf75c4f8d338c2fd15c8d33fdd7ad23a9b5e57eb6c5de26b430e/click-7.1.2-py2.py3-none-any.whl\n",
      "Collecting joblib\n",
      "  Using cached https://files.pythonhosted.org/packages/fc/c9/f58220ac44a1592f79a343caba12f6837f9e0c04c196176a3d66338e1ea8/joblib-0.17.0-py3-none-any.whl\n",
      "Collecting regex\n",
      "  Using cached https://files.pythonhosted.org/packages/25/f0/a0f9832c21389bc0157aee8ba42bcdc3e33e031e6383d00a4bf9df3a4d12/regex-2020.11.13-cp36-cp36m-win_amd64.whl\n",
      "Collecting tqdm\n",
      "  Using cached https://files.pythonhosted.org/packages/e9/4e/afa45872365fe2abd13c8022d39348c01808b8cfeea129937920d7bb2244/tqdm-4.54.0-py2.py3-none-any.whl\n",
      "Installing collected packages: click, joblib, regex, tqdm, nltk\n",
      "    Running setup.py install for nltk: started\n",
      "    Running setup.py install for nltk: finished with status 'done'\n",
      "Successfully installed click-7.1.2 joblib-0.17.0 nltk-3.5 regex-2020.11.13 tqdm-4.54.0\n"
     ]
    },
    {
     "name": "stderr",
     "output_type": "stream",
     "text": [
      "WARNING: Target directory D:\\TU Darmstadt\\02_WS2021\\01_FoLT\\HW\\$nb_path\\click already exists. Specify --upgrade to force replacement.\n",
      "WARNING: Target directory D:\\TU Darmstadt\\02_WS2021\\01_FoLT\\HW\\$nb_path\\click-7.1.2.dist-info already exists. Specify --upgrade to force replacement.\n",
      "WARNING: Target directory D:\\TU Darmstadt\\02_WS2021\\01_FoLT\\HW\\$nb_path\\joblib already exists. Specify --upgrade to force replacement.\n",
      "WARNING: Target directory D:\\TU Darmstadt\\02_WS2021\\01_FoLT\\HW\\$nb_path\\joblib-0.17.0.dist-info already exists. Specify --upgrade to force replacement.\n",
      "WARNING: Target directory D:\\TU Darmstadt\\02_WS2021\\01_FoLT\\HW\\$nb_path\\nltk already exists. Specify --upgrade to force replacement.\n",
      "WARNING: Target directory D:\\TU Darmstadt\\02_WS2021\\01_FoLT\\HW\\$nb_path\\nltk-3.5-py3.6.egg-info already exists. Specify --upgrade to force replacement.\n",
      "WARNING: Target directory D:\\TU Darmstadt\\02_WS2021\\01_FoLT\\HW\\$nb_path\\regex already exists. Specify --upgrade to force replacement.\n",
      "WARNING: Target directory D:\\TU Darmstadt\\02_WS2021\\01_FoLT\\HW\\$nb_path\\regex-2020.11.13.dist-info already exists. Specify --upgrade to force replacement.\n",
      "WARNING: Target directory D:\\TU Darmstadt\\02_WS2021\\01_FoLT\\HW\\$nb_path\\tqdm already exists. Specify --upgrade to force replacement.\n",
      "WARNING: Target directory D:\\TU Darmstadt\\02_WS2021\\01_FoLT\\HW\\$nb_path\\tqdm-4.54.0.dist-info already exists. Specify --upgrade to force replacement.\n",
      "WARNING: Target directory D:\\TU Darmstadt\\02_WS2021\\01_FoLT\\HW\\$nb_path\\bin already exists. Specify --upgrade to force replacement.\n",
      "WARNING: You are using pip version 19.3.1; however, version 20.2.4 is available.\n",
      "You should consider upgrading via the 'python -m pip install --upgrade pip' command.\n",
      "Python was not found; run without arguments to install from the Microsoft Store, or disable this shortcut from Settings > Manage App Execution Aliases.\n"
     ]
    }
   ],
   "source": [
    "# Execute before and only in colab, if you use jupyter ignore this cell\n",
    "!pip install --target=$nb_path nltk==3.5\n",
    "!python3 -m nltk.downloader wordnet"
   ]
  },
  {
   "cell_type": "code",
   "execution_count": 2,
   "metadata": {
    "id": "mYHoaiUQCWq3"
   },
   "outputs": [],
   "source": [
    "import scipy\n",
    "import nltk\n",
    "from nltk.corpus import wordnet"
   ]
  },
  {
   "cell_type": "markdown",
   "metadata": {
    "id": "IITIbSkxbpTt"
   },
   "source": [
    "## Homework 5.1 (a)"
   ]
  },
  {
   "cell_type": "code",
   "execution_count": 53,
   "metadata": {
    "id": "WtmmOIDIDjIK",
    "scrolled": true
   },
   "outputs": [
    {
     "name": "stdout",
     "output_type": "stream",
     "text": [
      "1.0 ('car', 'automobile')\n",
      "1.0 ('gem', 'jewel')\n",
      "1.0 ('magician', 'wizard')\n",
      "1.0 ('midday', 'noon')\n",
      "0.5 ('journey', 'voyage')\n",
      "0.5 ('boy', 'lad')\n",
      "0.5 ('coast', 'shore')\n",
      "0.5 ('asylum', 'madhouse')\n",
      "0.5 ('bird', 'cock')\n",
      "0.5 ('implement', 'tool')\n",
      "0.5 ('brother', 'monk')\n",
      "0.25 ('bird', 'crane')\n",
      "0.2 ('lad', 'brother')\n",
      "0.2 ('crane', 'implement')\n",
      "0.2 ('coast', 'hill')\n",
      "0.2 ('shore', 'woodland')\n",
      "0.2 ('monk', 'slave')\n",
      "0.2 ('lad', 'wizard')\n",
      "0.16666666666666666 ('coast', 'forest')\n",
      "0.125 ('monk', 'oracle')\n",
      "0.125 ('chord', 'smile')\n",
      "0.125 ('glass', 'magician')\n",
      "0.1111111111111111 ('cemetery', 'woodland')\n",
      "0.1111111111111111 ('forest', 'graveyard')\n",
      "0.1 ('furnace', 'stove')\n",
      "0.1 ('food', 'fruit')\n",
      "0.08333333333333333 ('journey', 'car')\n",
      "0.08333333333333333 ('noon', 'string')\n",
      "0.0625 ('food', 'rooster')\n",
      "0.041666666666666664 ('rooster', 'voyage')\n"
     ]
    }
   ],
   "source": [
    "# this is the ordering that was established experimentally by (Miller & Charles, 1998)\n",
    "# car-automobile\n",
    "# gem-jewel\n",
    "# journey-voyage\n",
    "# boy-lad\n",
    "# coast-shore\n",
    "# asylum-madhouse\n",
    "# magician-wizard\n",
    "# midday-noon\n",
    "# furnace-stove\n",
    "# food-fruit\n",
    "# bird-cock\n",
    "# bird-crane\n",
    "# implement-tool\n",
    "# brother-monk\n",
    "# lad-brother\n",
    "# crane-implement\n",
    "# journey-car\n",
    "# monk-oracle\n",
    "# cemetery-woodland\n",
    "# food-rooster\n",
    "# coast-hill\n",
    "# forest-graveyard\n",
    "# shore-woodland\n",
    "# monk-slave\n",
    "# coast-forest\n",
    "# lad-wizard\n",
    "# chord-smile\n",
    "# glass-magician\n",
    "# noon-string\n",
    "# rooster-voyage\n",
    "\n",
    "# TODO: add word pairs\n",
    "\n",
    "pairs = [[\"car\",\"automobile\"],\n",
    "[\"gem\",\"jewel\"],\n",
    "[\"journey\",\"voyage\"],\n",
    "[\"boy\",\"lad\"],\n",
    "[\"coast\",\"shore\"],\n",
    "[\"asylum\",\"madhouse\"],\n",
    "[\"magician\",\"wizard\"],\n",
    "[\"midday\",\"noon\"],\n",
    "[\"furnace\",\"stove\"],\n",
    "[\"food\",\"fruit\"],\n",
    "[\"bird\",\"cock\"],\n",
    "[\"bird\",\"crane\"],\n",
    "[\"implement\",\"tool\"],\n",
    "[\"brother\",\"monk\"],\n",
    "[\"lad\",\"brother\"],\n",
    "[\"crane\",\"implement\"],\n",
    "[\"journey\",\"car\"],\n",
    "[\"monk\",\"oracle\"],\n",
    "[\"cemetery\",\"woodland\"],\n",
    "[\"food\",\"rooster\"],\n",
    "[\"coast\",\"hill\"],\n",
    "[\"forest\",\"graveyard\"],\n",
    "[\"shore\",\"woodland\"],\n",
    "[\"monk\",\"slave\"],\n",
    "[\"coast\",\"forest\"],\n",
    "[\"lad\",\"wizard\"],\n",
    "[\"chord\",\"smile\"],\n",
    "[\"glass\",\"magician\"],\n",
    "[\"noon\",\"string\"],\n",
    "[\"rooster\",\"voyage\"]]\n",
    "\n",
    "results = {}\n",
    "# TODO: Determine the path similarity for each pair of words\n",
    "\n",
    "from nltk.corpus import wordnet as wn\n",
    "from collections import OrderedDict\n",
    "import itertools\n",
    "\n",
    "for pair in pairs: \n",
    "    min_score = 0 \n",
    "    synset1 =  wordnet.synsets(pair[0])\n",
    "    synset2 =  wordnet.synsets(pair[1])\n",
    "    comb = list(itertools.product(synset1, synset2))\n",
    "    \n",
    "    for (x,y) in comb: \n",
    "        sim_score = x.path_similarity(y)\n",
    "        if sim_score != None and sim_score > min_score: \n",
    "            min_score = sim_score\n",
    "    \n",
    "    results[tuple(pair)] = min_score        \n",
    "\n",
    "# Rank word pairs in decreasing order\n",
    "results = OrderedDict(sorted(results.items(), key=lambda x: x[1], reverse=True) )    \n",
    "\n",
    "# print each result on its own line\n",
    "for k,v in results.items():\n",
    "    print(v,k)"
   ]
  },
  {
   "cell_type": "markdown",
   "metadata": {
    "id": "q4Fef7NVb7VQ"
   },
   "source": [
    "## Homework 5.1 (b)"
   ]
  },
  {
   "cell_type": "code",
   "execution_count": 62,
   "metadata": {
    "id": "sPRtvZPfGiNV"
   },
   "outputs": [
    {
     "name": "stdout",
     "output_type": "stream",
     "text": [
      "0.7548387096774196\n"
     ]
    }
   ],
   "source": [
    "from scipy.stats import spearmanr, pearsonr\n",
    "\n",
    "actual_rank = []\n",
    "predict_rank = [i+1 for i, v in enumerate(results)]\n",
    "\n",
    "for i in results: \n",
    "    actual_rank.append(pairs.index(list(i)))\n",
    "\n",
    "correlation, _ = pearsonr(actual_rank, predict_rank)\n",
    "print(correlation)\n",
    "\n"
   ]
  },
  {
   "cell_type": "markdown",
   "metadata": {
    "id": "5F5lfnC1cDo2"
   },
   "source": [
    "## Homework 5.2"
   ]
  },
  {
   "cell_type": "code",
   "execution_count": 72,
   "metadata": {
    "id": "14-BycGTMnAL"
   },
   "outputs": [
    {
     "name": "stdout",
     "output_type": "stream",
     "text": [
      "a female sorcerer or magician\n",
      "a being (usually female) imagined to have special powers derived from the devil\n",
      "a believer in Wicca\n",
      "an ugly evil-looking old woman\n",
      "cast a spell over someone or something; put a hex on someone or something\n"
     ]
    }
   ],
   "source": [
    "# Get the synsets for \"witch\" and read their definitions...\n",
    "witch = wordnet.synsets(\"witch\")\n",
    "\n",
    "for i in witch: \n",
    "    print(i.definition())"
   ]
  },
  {
   "cell_type": "code",
   "execution_count": 73,
   "metadata": {},
   "outputs": [
    {
     "data": {
      "text/plain": [
       "['enchantress', 'witch', 'wiccan', 'hag', 'hex']"
      ]
     },
     "execution_count": 73,
     "metadata": {},
     "output_type": "execute_result"
    }
   ],
   "source": [
    "[synset.name().split('.')[0] for synset in wordnet.synsets('witch') ]"
   ]
  },
  {
   "cell_type": "markdown",
   "metadata": {},
   "source": [
    "Most of the synsets of the word \"witch\" can be used interchangably."
   ]
  },
  {
   "cell_type": "code",
   "execution_count": null,
   "metadata": {},
   "outputs": [],
   "source": []
  }
 ],
 "metadata": {
  "colab": {
   "collapsed_sections": [],
   "name": "Homework_5.ipynb",
   "provenance": []
  },
  "kernelspec": {
   "display_name": "Python 3",
   "language": "python",
   "name": "python3"
  },
  "language_info": {
   "codemirror_mode": {
    "name": "ipython",
    "version": 3
   },
   "file_extension": ".py",
   "mimetype": "text/x-python",
   "name": "python",
   "nbconvert_exporter": "python",
   "pygments_lexer": "ipython3",
   "version": "3.6.7"
  },
  "toc": {
   "base_numbering": 1,
   "nav_menu": {},
   "number_sections": true,
   "sideBar": true,
   "skip_h1_title": false,
   "title_cell": "Table of Contents",
   "title_sidebar": "Contents",
   "toc_cell": false,
   "toc_position": {},
   "toc_section_display": true,
   "toc_window_display": false
  },
  "varInspector": {
   "cols": {
    "lenName": 16,
    "lenType": 16,
    "lenVar": 40
   },
   "kernels_config": {
    "python": {
     "delete_cmd_postfix": "",
     "delete_cmd_prefix": "del ",
     "library": "var_list.py",
     "varRefreshCmd": "print(var_dic_list())"
    },
    "r": {
     "delete_cmd_postfix": ") ",
     "delete_cmd_prefix": "rm(",
     "library": "var_list.r",
     "varRefreshCmd": "cat(var_dic_list()) "
    }
   },
   "types_to_exclude": [
    "module",
    "function",
    "builtin_function_or_method",
    "instance",
    "_Feature"
   ],
   "window_display": false
  }
 },
 "nbformat": 4,
 "nbformat_minor": 1
}
